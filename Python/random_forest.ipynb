{
 "cells": [
  {
   "cell_type": "code",
   "execution_count": 14,
   "id": "2765854a",
   "metadata": {},
   "outputs": [],
   "source": [
    "# Importando as bibliotecas necessárias\n",
    "import pandas as pd\n",
    "import numpy as np\n",
    "import seaborn as sns\n",
    "from sklearn.tree import DecisionTreeClassifier\n",
    "from sklearn import tree\n",
    "from sklearn.ensemble import RandomForestClassifier\n",
    "from sklearn.datasets import make_classification\n",
    "from sklearn.model_selection import train_test_split\n",
    "from sklearn.metrics import recall_score\n",
    "from sklearn.metrics import precision_score\n",
    "from sklearn.metrics import f1_score\n",
    "from sklearn.metrics import roc_curve, roc_auc_score\n",
    "import matplotlib.pyplot as plt\n",
    "from sklearn.metrics import confusion_matrix\n",
    "from sklearn.tree import export_graphviz\n",
    "from sklearn.metrics import accuracy_score\n",
    "from sklearn.metrics import classification_report\n",
    "from imblearn.under_sampling import RandomUnderSampler\n",
    "import xgboost as xgb\n",
    "from math import sqrt\n",
    "from numpy.ma import count"
   ]
  },
  {
   "cell_type": "code",
   "execution_count": 15,
   "id": "c65d6f03",
   "metadata": {},
   "outputs": [],
   "source": [
    "# Carregando os dados\n",
    "data = pd.read_csv('../dataset/dados_datatran2022.csv',encoding='iso-8859-1',sep=';')"
   ]
  },
  {
   "cell_type": "code",
   "execution_count": null,
   "id": "984e51c2",
   "metadata": {},
   "outputs": [],
   "source": [
    "#Conhecendo como está estruturado o nosso dataset\n",
    "data.info()"
   ]
  },
  {
   "cell_type": "code",
   "execution_count": null,
   "id": "5ebb12ec",
   "metadata": {},
   "outputs": [],
   "source": [
    "#Analisando uma amostra, 20 primeiras linhas do dataset\n",
    "data.head(20)"
   ]
  },
  {
   "cell_type": "code",
   "execution_count": 16,
   "id": "e98ef897",
   "metadata": {},
   "outputs": [],
   "source": [
    "#Limpando os valores nulos / vazios para que estão na coluna 'br'\n",
    "df = data\n",
    "\n",
    "df.dropna(axis=0, subset=['br'],inplace=True)"
   ]
  },
  {
   "cell_type": "code",
   "execution_count": 17,
   "id": "a6d79449",
   "metadata": {},
   "outputs": [],
   "source": [
    "#Fazendo uma copia do dataset original\n",
    "df = data\n",
    "\n",
    "#Filtrando as colunas que vou trabalhar\n",
    "df = df.filter([\"fase_dia\",\"sentido_via\",\"condicao_metereologica\",\"tipo_pista\",\"tracado_via\",\"mortos\",'feridos','veiculos'])\n",
    "\n",
    "#Alterando o tipo das colunas\n",
    "df[\"fase_dia\"] = df['fase_dia'].astype('object')\n",
    "df[\"sentido_via\"] = df['sentido_via'].astype('object')\n",
    "df[\"condicao_metereologica\"] = df['condicao_metereologica'].astype('object')\n",
    "df[\"tipo_pista\"] = df['tipo_pista'].astype('object')\n",
    "df[\"tracado_via\"] = df['tracado_via'].astype('object')\n",
    "\n",
    "#Fazendo a 'dummerização' para determinadas colunas\n",
    "df = pd.get_dummies(df,columns=['fase_dia',\"sentido_via\",'condicao_metereologica','tipo_pista','tracado_via'],drop_first=False)"
   ]
  },
  {
   "cell_type": "code",
   "execution_count": 18,
   "id": "a99b7cb3",
   "metadata": {},
   "outputs": [],
   "source": [
    "# Divide por classes\n",
    "count_class_0, count_class_1 = df.mortos.value_counts()\n",
    "df_class_0 = df[df['mortos'] == 0]\n",
    "df_class_1 = df[df['mortos'] == 1]\n",
    "df_class_0 = df_class_0.sample(count_class_0)\n",
    "df_class_1 = df_class_1.sample(count_class_1)"
   ]
  },
  {
   "cell_type": "code",
   "execution_count": 19,
   "id": "611bbaae",
   "metadata": {},
   "outputs": [],
   "source": [
    "# Separando os dados de entrada (X) e saída (y)\n",
    "X = df.drop('mortos', axis=1)\n",
    "y = df['mortos']"
   ]
  },
  {
   "cell_type": "code",
   "execution_count": 20,
   "id": "55302963",
   "metadata": {},
   "outputs": [
    {
     "name": "stdout",
     "output_type": "stream",
     "text": [
      "mortos\n",
      "0    3718\n",
      "1    3718\n",
      "Name: count, dtype: int64\n"
     ]
    },
    {
     "name": "stderr",
     "output_type": "stream",
     "text": [
      "C:\\Users\\diegosilva\\AppData\\Roaming\\Python\\Python39\\site-packages\\seaborn\\_decorators.py:36: FutureWarning: Pass the following variable as a keyword arg: x. From version 0.12, the only valid positional argument will be `data`, and passing other arguments without an explicit keyword will result in an error or misinterpretation.\n",
      "  warnings.warn(\n"
     ]
    },
    {
     "data": {
      "image/png": "[encoded data removed]",
      "text/plain": [
       "<Figure size 432x288 with 1 Axes>"
      ]
     },
     "metadata": {
      "needs_background": "light"
     },
     "output_type": "display_data"
    }
   ],
   "source": [
    "# usar técnica under-sampling\n",
    "rus = RandomUnderSampler()\n",
    "X_res, y_res = rus.fit_resample(X, y)\n",
    "# ver o balanceamento das classes\n",
    "print(pd.Series(y_res).value_counts())\n",
    "# plotar a nova distribuição de classes\n",
    "sns.countplot(y_res);"
   ]
  },
  {
   "cell_type": "code",
   "execution_count": 21,
   "id": "0e7913ee",
   "metadata": {},
   "outputs": [],
   "source": [
    "# Split the data into training and testing sets\n",
    "X_train, X_test, y_train, y_test = train_test_split(X, y, test_size=0.3, random_state=1)"
   ]
  },
  {
   "cell_type": "code",
   "execution_count": 22,
   "id": "659c201a",
   "metadata": {},
   "outputs": [
    {
     "data": {
      "text/plain": [
       "3.686657973629224"
      ]
     },
     "execution_count": 22,
     "metadata": {},
     "output_type": "execute_result"
    }
   ],
   "source": [
    "scale_pos_weight = sqrt(df_class_0.mortos.count()/df_class_1.mortos.count())\n",
    "scale_pos_weight"
   ]
  },
  {
   "cell_type": "code",
   "execution_count": 23,
   "id": "f1b649b5",
   "metadata": {},
   "outputs": [
    {
     "name": "stdout",
     "output_type": "stream",
     "text": [
      "Accuracy: 0.8862742688621282\n"
     ]
    }
   ],
   "source": [
    "# Create an XGBoost classifier\n",
    "model = xgb.XGBClassifier(random_state = 42, n_jobs = 1, scale_pos_weight = scale_pos_weight, n_estimators = 372)\n",
    "\n",
    "# Fit the model to the training data\n",
    "model.fit(X_train, y_train)\n",
    "\n",
    "# Make predictions on the testing data\n",
    "y_pred = model.predict(X_test)\n",
    "\n",
    "# Evaluate the model's performance\n",
    "accuracy = accuracy_score(y_test, y_pred)\n",
    "print(\"Accuracy:\", accuracy)"
   ]
  },
  {
   "cell_type": "code",
   "execution_count": null,
   "id": "8143239d",
   "metadata": {},
   "outputs": [],
   "source": [
    "# imprimir relatório de classificação\n",
    "print(\"Relatório de Classificação:\\n\", classification_report(y_test, y_pred, digits=4))"
   ]
  },
  {
   "cell_type": "code",
   "execution_count": null,
   "id": "7dc7a2e0",
   "metadata": {},
   "outputs": [],
   "source": [
    "y_prob = model.predict_proba(X_test)[:, 1]"
   ]
  },
  {
   "cell_type": "code",
   "execution_count": null,
   "id": "fcbe4205",
   "metadata": {},
   "outputs": [],
   "source": [
    "# Cálculo dos valores de TPR e FPR para diferentes valores de limiar de classificação\n",
    "fpr, tpr, thresholds = roc_curve(y_test, y_prob)"
   ]
  },
  {
   "cell_type": "code",
   "execution_count": null,
   "id": "03e23a4f",
   "metadata": {},
   "outputs": [],
   "source": [
    "# Cálculo da AUC da curva ROC\n",
    "roc_auc = roc_auc_score(y_test, y_prob)"
   ]
  },
  {
   "cell_type": "code",
   "execution_count": null,
   "id": "3a367e1e",
   "metadata": {},
   "outputs": [],
   "source": [
    "# Plotagem da curva ROC\n",
    "plt.plot(fpr, tpr, color='darkorange', label='ROC curve (area = %0.2f)' % roc_auc)\n",
    "plt.plot([0, 1], [0, 1], color='navy', linestyle='--')\n",
    "plt.xlabel('False Positive Rate')\n",
    "plt.ylabel('True Positive Rate')\n",
    "plt.title('Receiver Operating Characteristic (ROC) Curve')\n",
    "plt.legend(loc=\"lower right\")\n",
    "plt.show()"
   ]
  },
  {
   "cell_type": "code",
   "execution_count": null,
   "id": "87b4c188",
   "metadata": {},
   "outputs": [],
   "source": [
    "# Cálculo da matriz de confusão\n",
    "cm = confusion_matrix(y_test, y_pred)"
   ]
  },
  {
   "cell_type": "code",
   "execution_count": null,
   "id": "2b49787f",
   "metadata": {},
   "outputs": [],
   "source": [
    "# Plotagem da matriz de confusão usando a biblioteca seaborn\n",
    "sns.heatmap(cm, annot=True, cmap='BrBG', fmt=\".0f\")\n",
    "plt.title('Matriz de confusão do modelo')\n",
    "plt.xlabel('Classes previstas')\n",
    "plt.ylabel('Classes verdadeiras')\n",
    "plt.show()"
   ]
  },
  {
   "cell_type": "code",
   "execution_count": null,
   "id": "288f2c0d",
   "metadata": {},
   "outputs": [],
   "source": [
    "#RESULTADOS COM RANDOM FOREST"
   ]
  },
  {
   "cell_type": "code",
   "execution_count": null,
   "id": "aba0c2eb",
   "metadata": {},
   "outputs": [],
   "source": [
    "# Criação e treinamento do modelo de Random Forest Classifier\n",
    "rfc = RandomForestClassifier(n_estimators=100, max_depth=5, random_state=42)\n",
    "rfc.fit(X_train, y_train)"
   ]
  },
  {
   "cell_type": "code",
   "execution_count": null,
   "id": "4971a8a1",
   "metadata": {},
   "outputs": [],
   "source": [
    "# Realização das previsões no conjunto de teste\n",
    "y_pred = rfc.predict(X_test)"
   ]
  },
  {
   "cell_type": "code",
   "execution_count": null,
   "id": "4e80de06",
   "metadata": {},
   "outputs": [],
   "source": [
    "# imprimir relatório de classificação\n",
    "print(\"Relatório de Classificação:\\n\", classification_report(y_test, y_pred, digits=4))"
   ]
  },
  {
   "cell_type": "code",
   "execution_count": null,
   "id": "04a29afe",
   "metadata": {},
   "outputs": [],
   "source": [
    "# Avaliação do modelo\n",
    "accuracy = rfc.score(X_test, y_test)\n",
    "print('Acurácia do modelo: {:.2f}%'.format(accuracy*100))"
   ]
  },
  {
   "cell_type": "code",
   "execution_count": null,
   "id": "1ab5a0f1",
   "metadata": {},
   "outputs": [],
   "source": [
    "# Cálculo do recall\n",
    "recall = recall_score(y_test, y_pred,average='weighted')\n",
    "print('Recall do modelo: {:.2f}%'.format(recall*100))"
   ]
  },
  {
   "cell_type": "code",
   "execution_count": null,
   "id": "bda3d7bf",
   "metadata": {},
   "outputs": [],
   "source": [
    "# Cálculo da precisão\n",
    "precision = precision_score(y_test, y_pred, average='weighted')\n",
    "print('Precisão do modelo: {:.2f}%'.format(precision*100))"
   ]
  },
  {
   "cell_type": "code",
   "execution_count": null,
   "id": "08dba10c",
   "metadata": {},
   "outputs": [],
   "source": [
    "# Cálculo do F1-score\n",
    "f1 = f1_score(y_test, y_pred, average='weighted')\n",
    "print('F1-score do modelo: {:.2f}%'.format(f1*100))"
   ]
  },
  {
   "cell_type": "code",
   "execution_count": null,
   "id": "36404f33",
   "metadata": {},
   "outputs": [],
   "source": [
    "y_prob = rfc.predict_proba(X_test)[:, 1]"
   ]
  },
  {
   "cell_type": "code",
   "execution_count": null,
   "id": "b4956442",
   "metadata": {},
   "outputs": [],
   "source": [
    "# Cálculo dos valores de TPR e FPR para diferentes valores de limiar de classificação\n",
    "fpr, tpr, thresholds = roc_curve(y_test, y_prob)"
   ]
  },
  {
   "cell_type": "code",
   "execution_count": null,
   "id": "5c0721e0",
   "metadata": {},
   "outputs": [],
   "source": [
    "# Cálculo da AUC da curva ROC\n",
    "roc_auc = roc_auc_score(y_test, y_prob)"
   ]
  },
  {
   "cell_type": "code",
   "execution_count": null,
   "id": "fc6aaebd",
   "metadata": {},
   "outputs": [],
   "source": [
    "# Plotagem da curva ROC\n",
    "plt.plot(fpr, tpr, color='darkorange', label='ROC curve (area = %0.2f)' % roc_auc)\n",
    "plt.plot([0, 1], [0, 1], color='navy', linestyle='--')\n",
    "plt.xlabel('False Positive Rate')\n",
    "plt.ylabel('True Positive Rate')\n",
    "plt.title('Receiver Operating Characteristic (ROC) Curve')\n",
    "plt.legend(loc=\"lower right\")\n",
    "plt.show()"
   ]
  },
  {
   "cell_type": "code",
   "execution_count": null,
   "id": "c39afb3e",
   "metadata": {},
   "outputs": [],
   "source": [
    "# Cálculo da matriz de confusão\n",
    "cm = confusion_matrix(y_test, y_pred)"
   ]
  },
  {
   "cell_type": "code",
   "execution_count": null,
   "id": "1d89f745",
   "metadata": {},
   "outputs": [],
   "source": [
    "# Plotagem da matriz de confusão usando a biblioteca seaborn\n",
    "sns.heatmap(cm, annot=True, cmap='BrBG', fmt=\".0f\")\n",
    "plt.title('Matriz de confusão do modelo')\n",
    "plt.xlabel('Classes previstas')\n",
    "plt.ylabel('Classes verdadeiras')\n",
    "plt.show()"
   ]
  }
 ],
 "metadata": {
  "kernelspec": {
   "display_name": "Python 3 (ipykernel)",
   "language": "python",
   "name": "python3"
  },
  "language_info": {
   "codemirror_mode": {
    "name": "ipython",
    "version": 3
   },
   "file_extension": ".py",
   "mimetype": "text/x-python",
   "name": "python",
   "nbconvert_exporter": "python",
   "pygments_lexer": "ipython3",
   "version": "3.9.4"
  }
 },
 "nbformat": 4,
 "nbformat_minor": 5
}
