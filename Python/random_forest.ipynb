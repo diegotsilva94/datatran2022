{
 "cells": [
  {
   "cell_type": "code",
   "execution_count": 1,
   "id": "2765854a",
   "metadata": {},
   "outputs": [],
   "source": [
    "# Importando as bibliotecas necessárias\n",
    "import pandas as pd\n",
    "import numpy as np\n",
    "import seaborn as sns\n",
    "from sklearn.tree import DecisionTreeClassifier\n",
    "from sklearn import tree\n",
    "from sklearn.ensemble import RandomForestClassifier\n",
    "from sklearn.datasets import make_classification\n",
    "from sklearn.model_selection import train_test_split\n",
    "from sklearn.metrics import recall_score\n",
    "from sklearn.metrics import precision_score\n",
    "from sklearn.metrics import f1_score\n",
    "from sklearn.metrics import roc_curve, roc_auc_score\n",
    "import matplotlib.pyplot as plt\n",
    "from sklearn.metrics import confusion_matrix\n",
    "from sklearn.tree import export_graphviz\n",
    "from sklearn.metrics import accuracy_score\n",
    "from sklearn.metrics import classification_report\n",
    "from imblearn.under_sampling import RandomUnderSampler\n",
    "\n",
    "\n",
    "import xgboost as xgb\n",
    "##from sklearn.datasets import load_boston"
   ]
  },
  {
   "cell_type": "code",
   "execution_count": 2,
   "id": "c65d6f03",
   "metadata": {},
   "outputs": [],
   "source": [
    "# Carregando os dados\n",
    "data = pd.read_csv('base_Dados_datatran2022 - Copia (2).csv',encoding='iso-8859-1',sep=';')"
   ]
  },
  {
   "cell_type": "code",
   "execution_count": 3,
   "id": "e98ef897",
   "metadata": {},
   "outputs": [],
   "source": [
    "df = data\n",
    "\n",
    "df.dropna(axis=0, subset=['br'],inplace=True)"
   ]
  },
  {
   "cell_type": "code",
   "execution_count": 33,
   "id": "08b6c064",
   "metadata": {},
   "outputs": [],
   "source": [
    "count_class_0, count_class_1 = df.mortos.value_counts()"
   ]
  },
  {
   "cell_type": "code",
   "execution_count": 42,
   "id": "e2c65950",
   "metadata": {},
   "outputs": [],
   "source": [
    "# Divide by class\n",
    "df_class_0 = df[df['mortos'] == 0]\n",
    "df_class_1 = df[df['mortos'] == 1]\n",
    "df_class_0 = df_class_0.sample(count_class_0)\n",
    "df_class_1 = df_class_1.sample(count_class_1)\n"
   ]
  },
  {
   "cell_type": "code",
   "execution_count": 73,
   "id": "7793ce47",
   "metadata": {},
   "outputs": [
    {
     "data": {
      "text/plain": [
       "3718"
      ]
     },
     "execution_count": 73,
     "metadata": {},
     "output_type": "execute_result"
    }
   ],
   "source": [
    "from numpy.ma import count\n",
    "\n",
    "\n",
    "df_class_1.mortos.count()\n",
    "\n"
   ]
  },
  {
   "cell_type": "code",
   "execution_count": 63,
   "id": "e4d73f35",
   "metadata": {},
   "outputs": [
    {
     "data": {
      "text/plain": [
       "3.686657973629224"
      ]
     },
     "execution_count": 63,
     "metadata": {},
     "output_type": "execute_result"
    }
   ],
   "source": [
    "from math import sqrt\n",
    "\n",
    "from numpy.ma import count\n",
    "\n",
    "\n",
    "scale_pos_weight = sqrt(df_class_0.mortos.count()/df_class_1.mortos.count())\n",
    "scale_pos_weight"
   ]
  },
  {
   "cell_type": "code",
   "execution_count": 4,
   "id": "87ec9933",
   "metadata": {},
   "outputs": [
    {
     "name": "stdout",
     "output_type": "stream",
     "text": [
      "<class 'pandas.core.frame.DataFrame'>\n",
      "RangeIndex: 54251 entries, 0 to 54250\n",
      "Data columns (total 30 columns):\n",
      " #   Column                  Non-Null Count  Dtype \n",
      "---  ------                  --------------  ----- \n",
      " 0   id                      54251 non-null  int64 \n",
      " 1   data_inversa            54251 non-null  object\n",
      " 2   dia_semana              54251 non-null  object\n",
      " 3   horario                 54251 non-null  object\n",
      " 4   uf                      54251 non-null  object\n",
      " 5   br                      54251 non-null  int64 \n",
      " 6   km                      54251 non-null  object\n",
      " 7   municipio               54251 non-null  object\n",
      " 8   causa_acidente          54251 non-null  object\n",
      " 9   tipo_acidente           54251 non-null  object\n",
      " 10  classificacao_acidente  54251 non-null  object\n",
      " 11  fase_dia                54251 non-null  int64 \n",
      " 12  sentido_via             54251 non-null  int64 \n",
      " 13  condicao_metereologica  54251 non-null  int64 \n",
      " 14  tipo_pista              54251 non-null  int64 \n",
      " 15  tracado_via             54251 non-null  int64 \n",
      " 16  uso_solo                54251 non-null  object\n",
      " 17  pessoas                 54251 non-null  int64 \n",
      " 18  mortos                  54251 non-null  int64 \n",
      " 19  feridos_leves           54251 non-null  int64 \n",
      " 20  feridos_graves          54251 non-null  int64 \n",
      " 21  ilesos                  54251 non-null  int64 \n",
      " 22  ignorados               54251 non-null  int64 \n",
      " 23  feridos                 54251 non-null  int64 \n",
      " 24  veiculos                54251 non-null  int64 \n",
      " 25  latitude                54251 non-null  object\n",
      " 26  longitude               54251 non-null  object\n",
      " 27  regional                54219 non-null  object\n",
      " 28  delegacia               53563 non-null  object\n",
      " 29  uop                     54219 non-null  object\n",
      "dtypes: int64(15), object(15)\n",
      "memory usage: 12.4+ MB\n"
     ]
    }
   ],
   "source": [
    "df.info()"
   ]
  },
  {
   "cell_type": "code",
   "execution_count": 5,
   "id": "a6d79449",
   "metadata": {},
   "outputs": [],
   "source": [
    "df = data\n",
    "\n",
    "df = df.filter([\"fase_dia\",\"sentido_via\",\"condicao_metereologica\",\"tipo_pista\",\"tracado_via\",\"mortos\",'feridos','veiculos'])\n",
    "\n",
    "df[\"fase_dia\"] = df['fase_dia'].astype('object')\n",
    "df[\"sentido_via\"] = df['sentido_via'].astype('object')\n",
    "df[\"condicao_metereologica\"] = df['condicao_metereologica'].astype('object')\n",
    "df[\"tipo_pista\"] = df['tipo_pista'].astype('object')\n",
    "df[\"tracado_via\"] = df['tracado_via'].astype('object')\n",
    "\n",
    "df = pd.get_dummies(df,columns=['fase_dia',\"sentido_via\",'condicao_metereologica','tipo_pista','tracado_via'],drop_first=False)"
   ]
  },
  {
   "cell_type": "code",
   "execution_count": 46,
   "id": "611bbaae",
   "metadata": {},
   "outputs": [],
   "source": [
    "# Separando os dados de entrada (X) e saída (y)\n",
    "X = df.drop('mortos', axis=1)\n",
    "y = df['mortos']"
   ]
  },
  {
   "cell_type": "code",
   "execution_count": 7,
   "id": "55302963",
   "metadata": {},
   "outputs": [
    {
     "name": "stdout",
     "output_type": "stream",
     "text": [
      "mortos\n",
      "0    3718\n",
      "1    3718\n",
      "Name: count, dtype: int64\n"
     ]
    },
    {
     "name": "stderr",
     "output_type": "stream",
     "text": [
      "C:\\Users\\diegosilva\\AppData\\Roaming\\Python\\Python39\\site-packages\\seaborn\\_decorators.py:36: FutureWarning: Pass the following variable as a keyword arg: x. From version 0.12, the only valid positional argument will be `data`, and passing other arguments without an explicit keyword will result in an error or misinterpretation.\n",
      "  warnings.warn(\n"
     ]
    },
    {
     "data": {
      "image/png": "[encoded data removed]",
      "text/plain": [
       "<Figure size 432x288 with 1 Axes>"
      ]
     },
     "metadata": {
      "needs_background": "light"
     },
     "output_type": "display_data"
    }
   ],
   "source": [
    "# usar técnica under-sampling\n",
    "rus = RandomUnderSampler()\n",
    "X_res, y_res = rus.fit_resample(X, y)\n",
    "# ver o balanceamento das classes\n",
    "print(pd.Series(y_res).value_counts())\n",
    "# plotar a nova distribuição de classes\n",
    "sns.countplot(y_res);"
   ]
  },
  {
   "cell_type": "code",
   "execution_count": 64,
   "id": "0e7913ee",
   "metadata": {},
   "outputs": [],
   "source": [
    "# Split the data into training and testing sets\n",
    "X_train, X_test, y_train, y_test = train_test_split(X, y, test_size=0.3, random_state=1)"
   ]
  },
  {
   "cell_type": "code",
   "execution_count": 65,
   "id": "f1b649b5",
   "metadata": {},
   "outputs": [
    {
     "name": "stdout",
     "output_type": "stream",
     "text": [
      "Accuracy: 0.8862742688621282\n"
     ]
    }
   ],
   "source": [
    "# Create an XGBoost classifier\n",
    "model = xgb.XGBClassifier(random_state = 42, n_jobs = 1, scale_pos_weight = scale_pos_weight, n_estimators = 372)\n",
    "\n",
    "# Fit the model to the training data\n",
    "model.fit(X_train, y_train)\n",
    "\n",
    "# Make predictions on the testing data\n",
    "y_pred = model.predict(X_test)\n",
    "\n",
    "# Evaluate the model's performance\n",
    "accuracy = accuracy_score(y_test, y_pred)\n",
    "print(\"Accuracy:\", accuracy)"
   ]
  },
  {
   "cell_type": "code",
   "execution_count": 66,
   "id": "8143239d",
   "metadata": {},
   "outputs": [
    {
     "name": "stdout",
     "output_type": "stream",
     "text": [
      "Relatório de Classificação:\n",
      "               precision    recall  f1-score   support\n",
      "\n",
      "           0     0.9500    0.9267    0.9382     15162\n",
      "           1     0.2519    0.3357    0.2878      1114\n",
      "\n",
      "    accuracy                         0.8863     16276\n",
      "   macro avg     0.6009    0.6312    0.6130     16276\n",
      "weighted avg     0.9022    0.8863    0.8937     16276\n",
      "\n"
     ]
    }
   ],
   "source": [
    "# imprimir relatório de classificação\n",
    "print(\"Relatório de Classificação:\\n\", classification_report(y_test, y_pred, digits=4))"
   ]
  },
  {
   "cell_type": "code",
   "execution_count": 67,
   "id": "7dc7a2e0",
   "metadata": {},
   "outputs": [],
   "source": [
    "y_prob = model.predict_proba(X_test)[:, 1]"
   ]
  },
  {
   "cell_type": "code",
   "execution_count": 68,
   "id": "fcbe4205",
   "metadata": {},
   "outputs": [],
   "source": [
    "# Cálculo dos valores de TPR e FPR para diferentes valores de limiar de classificação\n",
    "fpr, tpr, thresholds = roc_curve(y_test, y_prob)"
   ]
  },
  {
   "cell_type": "code",
   "execution_count": 69,
   "id": "03e23a4f",
   "metadata": {},
   "outputs": [],
   "source": [
    "# Cálculo da AUC da curva ROC\n",
    "roc_auc = roc_auc_score(y_test, y_prob)"
   ]
  },
  {
   "cell_type": "code",
   "execution_count": 70,
   "id": "3a367e1e",
   "metadata": {},
   "outputs": [
    {
     "data": {
      "image/png": "[encoded data removed]",
      "text/plain": [
       "<Figure size 432x288 with 1 Axes>"
      ]
     },
     "metadata": {
      "needs_background": "light"
     },
     "output_type": "display_data"
    }
   ],
   "source": [
    "# Plotagem da curva ROC\n",
    "plt.plot(fpr, tpr, color='darkorange', label='ROC curve (area = %0.2f)' % roc_auc)\n",
    "plt.plot([0, 1], [0, 1], color='navy', linestyle='--')\n",
    "plt.xlabel('False Positive Rate')\n",
    "plt.ylabel('True Positive Rate')\n",
    "plt.title('Receiver Operating Characteristic (ROC) Curve')\n",
    "plt.legend(loc=\"lower right\")\n",
    "plt.show()"
   ]
  },
  {
   "cell_type": "code",
   "execution_count": 71,
   "id": "87b4c188",
   "metadata": {},
   "outputs": [],
   "source": [
    "# Cálculo da matriz de confusão\n",
    "cm = confusion_matrix(y_test, y_pred)"
   ]
  },
  {
   "cell_type": "code",
   "execution_count": 72,
   "id": "2b49787f",
   "metadata": {},
   "outputs": [
    {
     "data": {
      "image/png": "[encoded data removed]",
      "text/plain": [
       "<Figure size 432x288 with 2 Axes>"
      ]
     },
     "metadata": {
      "needs_background": "light"
     },
     "output_type": "display_data"
    }
   ],
   "source": [
    "# Plotagem da matriz de confusão usando a biblioteca seaborn\n",
    "sns.heatmap(cm, annot=True, cmap='BrBG', fmt=\".0f\")\n",
    "plt.title('Matriz de confusão do modelo')\n",
    "plt.xlabel('Classes previstas')\n",
    "plt.ylabel('Classes verdadeiras')\n",
    "plt.show()"
   ]
  },
  {
   "cell_type": "code",
   "execution_count": null,
   "id": "288f2c0d",
   "metadata": {},
   "outputs": [],
   "source": [
    "#RESULTADOS COM RANDOM FOREST"
   ]
  },
  {
   "cell_type": "code",
   "execution_count": 17,
   "id": "aba0c2eb",
   "metadata": {},
   "outputs": [
    {
     "data": {
      "text/html": [
       "<style>#sk-container-id-1 {color: black;background-color: white;}#sk-container-id-1 pre{padding: 0;}#sk-container-id-1 div.sk-toggleable {background-color: white;}#sk-container-id-1 label.sk-toggleable__label {cursor: pointer;display: block;width: 100%;margin-bottom: 0;padding: 0.3em;box-sizing: border-box;text-align: center;}#sk-container-id-1 label.sk-toggleable__label-arrow:before {content: \"▸\";float: left;margin-right: 0.25em;color: #696969;}#sk-container-id-1 label.sk-toggleable__label-arrow:hover:before {color: black;}#sk-container-id-1 div.sk-estimator:hover label.sk-toggleable__label-arrow:before {color: black;}#sk-container-id-1 div.sk-toggleable__content {max-height: 0;max-width: 0;overflow: hidden;text-align: left;background-color: #f0f8ff;}#sk-container-id-1 div.sk-toggleable__content pre {margin: 0.2em;color: black;border-radius: 0.25em;background-color: #f0f8ff;}#sk-container-id-1 input.sk-toggleable__control:checked~div.sk-toggleable__content {max-height: 200px;max-width: 100%;overflow: auto;}#sk-container-id-1 input.sk-toggleable__control:checked~label.sk-toggleable__label-arrow:before {content: \"▾\";}#sk-container-id-1 div.sk-estimator input.sk-toggleable__control:checked~label.sk-toggleable__label {background-color: #d4ebff;}#sk-container-id-1 div.sk-label input.sk-toggleable__control:checked~label.sk-toggleable__label {background-color: #d4ebff;}#sk-container-id-1 input.sk-hidden--visually {border: 0;clip: rect(1px 1px 1px 1px);clip: rect(1px, 1px, 1px, 1px);height: 1px;margin: -1px;overflow: hidden;padding: 0;position: absolute;width: 1px;}#sk-container-id-1 div.sk-estimator {font-family: monospace;background-color: #f0f8ff;border: 1px dotted black;border-radius: 0.25em;box-sizing: border-box;margin-bottom: 0.5em;}#sk-container-id-1 div.sk-estimator:hover {background-color: #d4ebff;}#sk-container-id-1 div.sk-parallel-item::after {content: \"\";width: 100%;border-bottom: 1px solid gray;flex-grow: 1;}#sk-container-id-1 div.sk-label:hover label.sk-toggleable__label {background-color: #d4ebff;}#sk-container-id-1 div.sk-serial::before {content: \"\";position: absolute;border-left: 1px solid gray;box-sizing: border-box;top: 0;bottom: 0;left: 50%;z-index: 0;}#sk-container-id-1 div.sk-serial {display: flex;flex-direction: column;align-items: center;background-color: white;padding-right: 0.2em;padding-left: 0.2em;position: relative;}#sk-container-id-1 div.sk-item {position: relative;z-index: 1;}#sk-container-id-1 div.sk-parallel {display: flex;align-items: stretch;justify-content: center;background-color: white;position: relative;}#sk-container-id-1 div.sk-item::before, #sk-container-id-1 div.sk-parallel-item::before {content: \"\";position: absolute;border-left: 1px solid gray;box-sizing: border-box;top: 0;bottom: 0;left: 50%;z-index: -1;}#sk-container-id-1 div.sk-parallel-item {display: flex;flex-direction: column;z-index: 1;position: relative;background-color: white;}#sk-container-id-1 div.sk-parallel-item:first-child::after {align-self: flex-end;width: 50%;}#sk-container-id-1 div.sk-parallel-item:last-child::after {align-self: flex-start;width: 50%;}#sk-container-id-1 div.sk-parallel-item:only-child::after {width: 0;}#sk-container-id-1 div.sk-dashed-wrapped {border: 1px dashed gray;margin: 0 0.4em 0.5em 0.4em;box-sizing: border-box;padding-bottom: 0.4em;background-color: white;}#sk-container-id-1 div.sk-label label {font-family: monospace;font-weight: bold;display: inline-block;line-height: 1.2em;}#sk-container-id-1 div.sk-label-container {text-align: center;}#sk-container-id-1 div.sk-container {/* jupyter's `normalize.less` sets `[hidden] { display: none; }` but bootstrap.min.css set `[hidden] { display: none !important; }` so we also need the `!important` here to be able to override the default hidden behavior on the sphinx rendered scikit-learn.org. See: https://github.com/scikit-learn/scikit-learn/issues/21755 */display: inline-block !important;position: relative;}#sk-container-id-1 div.sk-text-repr-fallback {display: none;}</style><div id=\"sk-container-id-1\" class=\"sk-top-container\"><div class=\"sk-text-repr-fallback\"><pre>RandomForestClassifier(max_depth=5, random_state=42)</pre><b>In a Jupyter environment, please rerun this cell to show the HTML representation or trust the notebook. <br />On GitHub, the HTML representation is unable to render, please try loading this page with nbviewer.org.</b></div><div class=\"sk-container\" hidden><div class=\"sk-item\"><div class=\"sk-estimator sk-toggleable\"><input class=\"sk-toggleable__control sk-hidden--visually\" id=\"sk-estimator-id-1\" type=\"checkbox\" checked><label for=\"sk-estimator-id-1\" class=\"sk-toggleable__label sk-toggleable__label-arrow\">RandomForestClassifier</label><div class=\"sk-toggleable__content\"><pre>RandomForestClassifier(max_depth=5, random_state=42)</pre></div></div></div></div></div>"
      ],
      "text/plain": [
       "RandomForestClassifier(max_depth=5, random_state=42)"
      ]
     },
     "execution_count": 17,
     "metadata": {},
     "output_type": "execute_result"
    }
   ],
   "source": [
    "# Criação e treinamento do modelo de Random Forest Classifier\n",
    "rfc = RandomForestClassifier(n_estimators=100, max_depth=5, random_state=42)\n",
    "rfc.fit(X_train, y_train)"
   ]
  },
  {
   "cell_type": "code",
   "execution_count": 18,
   "id": "4971a8a1",
   "metadata": {},
   "outputs": [],
   "source": [
    "# Realização das previsões no conjunto de teste\n",
    "y_pred = rfc.predict(X_test)"
   ]
  },
  {
   "cell_type": "code",
   "execution_count": 19,
   "id": "4e80de06",
   "metadata": {},
   "outputs": [
    {
     "name": "stdout",
     "output_type": "stream",
     "text": [
      "Relatório de Classificação:\n",
      "               precision    recall  f1-score   support\n",
      "\n",
      "           0     0.7500    0.7507    0.7503      1103\n",
      "           1     0.7560    0.7553    0.7557      1128\n",
      "\n",
      "    accuracy                         0.7530      2231\n",
      "   macro avg     0.7530    0.7530    0.7530      2231\n",
      "weighted avg     0.7530    0.7530    0.7530      2231\n",
      "\n"
     ]
    }
   ],
   "source": [
    "# imprimir relatório de classificação\n",
    "print(\"Relatório de Classificação:\\n\", classification_report(y_test, y_pred, digits=4))"
   ]
  },
  {
   "cell_type": "code",
   "execution_count": 20,
   "id": "04a29afe",
   "metadata": {},
   "outputs": [
    {
     "name": "stdout",
     "output_type": "stream",
     "text": [
      "Acurácia do modelo: 75.30%\n"
     ]
    }
   ],
   "source": [
    "# Avaliação do modelo\n",
    "accuracy = rfc.score(X_test, y_test)\n",
    "print('Acurácia do modelo: {:.2f}%'.format(accuracy*100))"
   ]
  },
  {
   "cell_type": "code",
   "execution_count": 21,
   "id": "1ab5a0f1",
   "metadata": {},
   "outputs": [
    {
     "name": "stdout",
     "output_type": "stream",
     "text": [
      "Recall do modelo: 75.30%\n"
     ]
    }
   ],
   "source": [
    "# Cálculo do recall\n",
    "recall = recall_score(y_test, y_pred,average='weighted')\n",
    "print('Recall do modelo: {:.2f}%'.format(recall*100))"
   ]
  },
  {
   "cell_type": "code",
   "execution_count": 22,
   "id": "bda3d7bf",
   "metadata": {},
   "outputs": [
    {
     "name": "stdout",
     "output_type": "stream",
     "text": [
      "Precisão do modelo: 75.30%\n"
     ]
    }
   ],
   "source": [
    "# Cálculo da precisão\n",
    "precision = precision_score(y_test, y_pred, average='weighted')\n",
    "print('Precisão do modelo: {:.2f}%'.format(precision*100))"
   ]
  },
  {
   "cell_type": "code",
   "execution_count": 23,
   "id": "08dba10c",
   "metadata": {},
   "outputs": [
    {
     "name": "stdout",
     "output_type": "stream",
     "text": [
      "F1-score do modelo: 75.30%\n"
     ]
    }
   ],
   "source": [
    "# Cálculo do F1-score\n",
    "f1 = f1_score(y_test, y_pred, average='weighted')\n",
    "print('F1-score do modelo: {:.2f}%'.format(f1*100))"
   ]
  },
  {
   "cell_type": "code",
   "execution_count": 24,
   "id": "36404f33",
   "metadata": {},
   "outputs": [],
   "source": [
    "y_prob = rfc.predict_proba(X_test)[:, 1]"
   ]
  },
  {
   "cell_type": "code",
   "execution_count": 25,
   "id": "b4956442",
   "metadata": {},
   "outputs": [],
   "source": [
    "# Cálculo dos valores de TPR e FPR para diferentes valores de limiar de classificação\n",
    "fpr, tpr, thresholds = roc_curve(y_test, y_prob)"
   ]
  },
  {
   "cell_type": "code",
   "execution_count": 26,
   "id": "5c0721e0",
   "metadata": {},
   "outputs": [],
   "source": [
    "# Cálculo da AUC da curva ROC\n",
    "roc_auc = roc_auc_score(y_test, y_prob)"
   ]
  },
  {
   "cell_type": "code",
   "execution_count": 27,
   "id": "fc6aaebd",
   "metadata": {},
   "outputs": [
    {
     "data": {
      "image/png": "[encoded data removed]",
      "text/plain": [
       "<Figure size 432x288 with 1 Axes>"
      ]
     },
     "metadata": {
      "needs_background": "light"
     },
     "output_type": "display_data"
    }
   ],
   "source": [
    "# Plotagem da curva ROC\n",
    "plt.plot(fpr, tpr, color='darkorange', label='ROC curve (area = %0.2f)' % roc_auc)\n",
    "plt.plot([0, 1], [0, 1], color='navy', linestyle='--')\n",
    "plt.xlabel('False Positive Rate')\n",
    "plt.ylabel('True Positive Rate')\n",
    "plt.title('Receiver Operating Characteristic (ROC) Curve')\n",
    "plt.legend(loc=\"lower right\")\n",
    "plt.show()"
   ]
  },
  {
   "cell_type": "code",
   "execution_count": 28,
   "id": "c39afb3e",
   "metadata": {},
   "outputs": [],
   "source": [
    "# Cálculo da matriz de confusão\n",
    "cm = confusion_matrix(y_test, y_pred)"
   ]
  },
  {
   "cell_type": "code",
   "execution_count": 29,
   "id": "1d89f745",
   "metadata": {},
   "outputs": [
    {
     "data": {
      "image/png": "[encoded data removed]",
      "text/plain": [
       "<Figure size 432x288 with 2 Axes>"
      ]
     },
     "metadata": {
      "needs_background": "light"
     },
     "output_type": "display_data"
    }
   ],
   "source": [
    "# Plotagem da matriz de confusão usando a biblioteca seaborn\n",
    "sns.heatmap(cm, annot=True, cmap='BrBG', fmt=\".0f\")\n",
    "plt.title('Matriz de confusão do modelo')\n",
    "plt.xlabel('Classes previstas')\n",
    "plt.ylabel('Classes verdadeiras')\n",
    "plt.show()"
   ]
  }
 ],
 "metadata": {
  "kernelspec": {
   "display_name": "Python 3 (ipykernel)",
   "language": "python",
   "name": "python3"
  },
  "language_info": {
   "codemirror_mode": {
    "name": "ipython",
    "version": 3
   },
   "file_extension": ".py",
   "mimetype": "text/x-python",
   "name": "python",
   "nbconvert_exporter": "python",
   "pygments_lexer": "ipython3",
   "version": "3.9.4"
  }
 },
 "nbformat": 4,
 "nbformat_minor": 5
}
